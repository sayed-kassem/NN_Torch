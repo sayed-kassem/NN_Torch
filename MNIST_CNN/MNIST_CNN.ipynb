{
  "cells": [
    {
      "cell_type": "code",
      "execution_count": null,
      "metadata": {
        "colab": {
          "base_uri": "https://localhost:8080/"
        },
        "id": "cNkVFGX-SMnH",
        "outputId": "7647d00a-e930-4d13-8ebd-5a5204a19941"
      },
      "outputs": [
        {
          "name": "stdout",
          "output_type": "stream",
          "text": [
            "Downloading http://yann.lecun.com/exdb/mnist/train-images-idx3-ubyte.gz\n",
            "Downloading http://yann.lecun.com/exdb/mnist/train-images-idx3-ubyte.gz to ./MNIST/raw/train-images-idx3-ubyte.gz\n"
          ]
        },
        {
          "name": "stderr",
          "output_type": "stream",
          "text": [
            "100%|██████████| 9912422/9912422 [00:00<00:00, 143410511.80it/s]\n"
          ]
        },
        {
          "name": "stdout",
          "output_type": "stream",
          "text": [
            "Extracting ./MNIST/raw/train-images-idx3-ubyte.gz to ./MNIST/raw\n",
            "\n",
            "Downloading http://yann.lecun.com/exdb/mnist/train-labels-idx1-ubyte.gz\n",
            "Downloading http://yann.lecun.com/exdb/mnist/train-labels-idx1-ubyte.gz to ./MNIST/raw/train-labels-idx1-ubyte.gz\n"
          ]
        },
        {
          "name": "stderr",
          "output_type": "stream",
          "text": [
            "100%|██████████| 28881/28881 [00:00<00:00, 19741801.47it/s]\n"
          ]
        },
        {
          "name": "stdout",
          "output_type": "stream",
          "text": [
            "Extracting ./MNIST/raw/train-labels-idx1-ubyte.gz to ./MNIST/raw\n",
            "\n",
            "Downloading http://yann.lecun.com/exdb/mnist/t10k-images-idx3-ubyte.gz\n",
            "Downloading http://yann.lecun.com/exdb/mnist/t10k-images-idx3-ubyte.gz to ./MNIST/raw/t10k-images-idx3-ubyte.gz\n"
          ]
        },
        {
          "name": "stderr",
          "output_type": "stream",
          "text": [
            "100%|██████████| 1648877/1648877 [00:00<00:00, 40829179.49it/s]\n"
          ]
        },
        {
          "name": "stdout",
          "output_type": "stream",
          "text": [
            "Extracting ./MNIST/raw/t10k-images-idx3-ubyte.gz to ./MNIST/raw\n",
            "\n",
            "Downloading http://yann.lecun.com/exdb/mnist/t10k-labels-idx1-ubyte.gz\n",
            "Downloading http://yann.lecun.com/exdb/mnist/t10k-labels-idx1-ubyte.gz to ./MNIST/raw/t10k-labels-idx1-ubyte.gz\n"
          ]
        },
        {
          "name": "stderr",
          "output_type": "stream",
          "text": [
            "100%|██████████| 4542/4542 [00:00<00:00, 16755082.47it/s]\n"
          ]
        },
        {
          "name": "stdout",
          "output_type": "stream",
          "text": [
            "Extracting ./MNIST/raw/t10k-labels-idx1-ubyte.gz to ./MNIST/raw\n",
            "\n"
          ]
        }
      ],
      "source": [
        "import torchvision\n",
        "import torch\n",
        "from torchvision import transforms\n",
        "image_path=\"./\"\n",
        "transform = transforms.Compose([transforms.ToTensor()])\n",
        "mnist_dataset = torchvision.datasets.MNIST(root=image_path,train=True,transform=transform,download=True)\n",
        "from torch.utils.data import Subset\n",
        "\n",
        "mnist_valid_dataset = Subset(mnist_dataset,torch.arange(10000))\n",
        "mnist_train_dataset = Subset(mnist_dataset, torch.arange(10000,len(mnist_dataset)))\n",
        "mnist_test_dataset = torchvision.datasets.MNIST(root=image_path, train=False,transform=transform,download=True)"
      ]
    },
    {
      "cell_type": "code",
      "execution_count": null,
      "metadata": {
        "id": "yXu8NoNtWTMe"
      },
      "outputs": [],
      "source": [
        "from torch.utils.data import DataLoader\n",
        "batch_size = 64\n",
        "torch.manual_seed(1)\n",
        "train_dl = DataLoader(mnist_train_dataset,batch_size,shuffle=True)\n",
        "valid_dl = DataLoader(mnist_valid_dataset,batch_size, shuffle=True)"
      ]
    },
    {
      "cell_type": "code",
      "execution_count": null,
      "metadata": {
        "id": "jAi5ycQiDZmo"
      },
      "outputs": [],
      "source": [
        "import torch.nn as nn"
      ]
    },
    {
      "cell_type": "code",
      "execution_count": null,
      "metadata": {
        "id": "VaKKTJPsCpTD"
      },
      "outputs": [],
      "source": [
        "model = nn.Sequential()\n",
        "\n",
        "model.add_module('conv1', nn.Conv2d(in_channels=1, out_channels=32,kernel_size=5,padding=2))\n",
        "model.add_module(\"relu1\", nn.ReLU())\n",
        "model.add_module('pool1', nn.MaxPool2d(kernel_size=2))\n",
        "model.add_module('conv2', nn.Conv2d(in_channels=32,out_channels=64,kernel_size=5,padding=2))\n",
        "model.add_module(\"relu2\", nn.ReLU())\n",
        "model.add_module('pool2', nn.MaxPool2d(kernel_size=2))\n"
      ]
    },
    {
      "cell_type": "code",
      "execution_count": null,
      "metadata": {
        "id": "P45CyCK5Degz"
      },
      "outputs": [],
      "source": [
        "model.add_module('flatten', nn.Flatten())"
      ]
    },
    {
      "cell_type": "code",
      "execution_count": null,
      "metadata": {
        "colab": {
          "base_uri": "https://localhost:8080/"
        },
        "id": "lcHPO26HE26f",
        "outputId": "b1f5c283-0d94-430f-f5d3-1c0f1d2346d9"
      },
      "outputs": [
        {
          "data": {
            "text/plain": [
              "torch.Size([4, 3136])"
            ]
          },
          "execution_count": 8,
          "metadata": {},
          "output_type": "execute_result"
        }
      ],
      "source": [
        "x = torch.ones((4,1,28,28))\n",
        "model(x).shape"
      ]
    },
    {
      "cell_type": "code",
      "execution_count": null,
      "metadata": {
        "id": "g5bs6PZNE8Tr"
      },
      "outputs": [],
      "source": [
        "model.add_module('fc1', nn.Linear(3136,1024))\n",
        "model.add_module('relu3', nn.ReLU())\n",
        "model.add_module('dropout', nn.Dropout(p=0.5))\n",
        "model.add_module('fc2', nn.Linear(1024,10))"
      ]
    },
    {
      "cell_type": "code",
      "execution_count": null,
      "metadata": {
        "id": "_yYOp4n-FeLz"
      },
      "outputs": [],
      "source": [
        "loss_fn = nn.CrossEntropyLoss()\n",
        "optimizer = torch.optim.Adam(model.parameters(), lr=0.001)"
      ]
    },
    {
      "cell_type": "code",
      "execution_count": null,
      "metadata": {
        "id": "D6DmhRUMF7T7"
      },
      "outputs": [],
      "source": [
        "def train(model, num_epochs, train_dl, valid_dl):\n",
        "    loss_hist_train = [0] * num_epochs\n",
        "    loss_hist_valid = [0] * num_epochs\n",
        "    accuracy_hist_train = [0] * num_epochs\n",
        "    accuracy_hist_valid = [0] * num_epochs\n",
        "\n",
        "    for epoch in range(num_epochs):\n",
        "        model.train()\n",
        "        loss_hist_train[epoch] = 0\n",
        "        accuracy_hist_train[epoch] = 0\n",
        "\n",
        "        for x_batch, y_batch in train_dl:\n",
        "            pred = model(x_batch)\n",
        "            loss = loss_fn(pred, y_batch)\n",
        "            loss.backward()\n",
        "            optimizer.step()\n",
        "            optimizer.zero_grad()\n",
        "            loss_hist_train[epoch] += loss.item() * y_batch.size(0)\n",
        "            is_correct = (torch.argmax(pred, dim=1) == y_batch).float()\n",
        "            accuracy_hist_train[epoch] += is_correct.sum()\n",
        "\n",
        "        loss_hist_train[epoch] /= len(train_dl.dataset)\n",
        "        accuracy_hist_train[epoch] /= len(train_dl.dataset)\n",
        "\n",
        "        model.eval()\n",
        "        loss_hist_valid[epoch] = 0\n",
        "        accuracy_hist_valid[epoch] = 0\n",
        "\n",
        "        with torch.no_grad():\n",
        "            for x_batch, y_batch in valid_dl:\n",
        "                pred = model(x_batch)\n",
        "                loss = loss_fn(pred, y_batch)\n",
        "                loss_hist_valid[epoch] += loss.item() * y_batch.size(0)\n",
        "                is_correct = (torch.argmax(pred, dim=1) == y_batch).float()\n",
        "                accuracy_hist_valid[epoch] += is_correct.sum()\n",
        "\n",
        "            loss_hist_valid[epoch] /= len(valid_dl.dataset)\n",
        "            accuracy_hist_valid[epoch] /= len(valid_dl.dataset)\n",
        "\n",
        "        print(f'Epoch {epoch+1} accuracy: {accuracy_hist_train[epoch]:.4f}'\n",
        "              f' val accuracy: {accuracy_hist_valid[epoch]:.4f}')\n",
        "\n",
        "    return loss_hist_train, loss_hist_valid, accuracy_hist_valid, accuracy_hist_train\n"
      ]
    },
    {
      "cell_type": "code",
      "execution_count": null,
      "metadata": {
        "colab": {
          "background_save": true,
          "base_uri": "https://localhost:8080/"
        },
        "id": "PKD5sSOeIKJ-",
        "outputId": "70ace91e-5d56-4861-863e-37658291c048"
      },
      "outputs": [
        {
          "name": "stdout",
          "output_type": "stream",
          "text": [
            "Epoch 1 accuracy: 0.9488 val accuracy: 0.9829\n",
            "Epoch 2 accuracy: 0.9837 val accuracy: 0.9878\n",
            "Epoch 3 accuracy: 0.9894 val accuracy: 0.9889\n",
            "Epoch 4 accuracy: 0.9913 val accuracy: 0.9872\n",
            "Epoch 5 accuracy: 0.9934 val accuracy: 0.9889\n",
            "Epoch 6 accuracy: 0.9946 val accuracy: 0.9896\n",
            "Epoch 7 accuracy: 0.9957 val accuracy: 0.9902\n",
            "Epoch 8 accuracy: 0.9961 val accuracy: 0.9904\n",
            "Epoch 9 accuracy: 0.9963 val accuracy: 0.9905\n",
            "Epoch 10 accuracy: 0.9972 val accuracy: 0.9907\n",
            "Epoch 11 accuracy: 0.9966 val accuracy: 0.9904\n",
            "Epoch 12 accuracy: 0.9975 val accuracy: 0.9898\n",
            "Epoch 13 accuracy: 0.9971 val accuracy: 0.9913\n",
            "Epoch 14 accuracy: 0.9981 val accuracy: 0.9896\n",
            "Epoch 15 accuracy: 0.9981 val accuracy: 0.9905\n",
            "Epoch 16 accuracy: 0.9986 val accuracy: 0.9909\n",
            "Epoch 17 accuracy: 0.9982 val accuracy: 0.9896\n",
            "Epoch 18 accuracy: 0.9976 val accuracy: 0.9903\n",
            "Epoch 19 accuracy: 0.9979 val accuracy: 0.9901\n",
            "Epoch 20 accuracy: 0.9981 val accuracy: 0.9911\n"
          ]
        }
      ],
      "source": [
        "torch.manual_seed(1)\n",
        "num_epochs = 20\n",
        "hist = train(model, num_epochs, train_dl, valid_dl)"
      ]
    },
    {
      "cell_type": "code",
      "execution_count": null,
      "metadata": {
        "colab": {
          "background_save": true
        },
        "id": "vP6JQaYOIYSx",
        "outputId": "b77cdfb7-4365-4b57-c301-e487a192cb85"
      },
      "outputs": [
        {
          "name": "stdout",
          "output_type": "stream",
          "text": [
            "Sequential(\n",
            "  (conv1): Conv2d(1, 32, kernel_size=(5, 5), stride=(1, 1), padding=(2, 2))\n",
            "  (relu1): ReLU()\n",
            "  (pool1): MaxPool2d(kernel_size=2, stride=2, padding=0, dilation=1, ceil_mode=False)\n",
            "  (conv2): Conv2d(32, 64, kernel_size=(5, 5), stride=(1, 1), padding=(2, 2))\n",
            "  (relu2): ReLU()\n",
            "  (pool2): MaxPool2d(kernel_size=2, stride=2, padding=0, dilation=1, ceil_mode=False)\n",
            "  (flatten): Flatten(start_dim=1, end_dim=-1)\n",
            "  (fc1): Linear(in_features=3136, out_features=1024, bias=True)\n",
            "  (relu3): ReLU()\n",
            "  (dropout): Dropout(p=0.5, inplace=False)\n",
            "  (fc2): Linear(in_features=1024, out_features=10, bias=True)\n",
            ")\n"
          ]
        }
      ],
      "source": [
        "print(model)"
      ]
    },
    {
      "cell_type": "code",
      "execution_count": null,
      "metadata": {
        "colab": {
          "background_save": true
        },
        "id": "wcVeTSGAJujI",
        "outputId": "50e63737-ce6c-49ce-a0c1-238a0413d249"
      },
      "outputs": [
        {
          "data": {
            "image/png": "[encoded data removed]",
            "text/plain": [
              "<Figure size 1200x400 with 2 Axes>"
            ]
          },
          "metadata": {},
          "output_type": "display_data"
        }
      ],
      "source": [
        "import matplotlib.pyplot as plt\n",
        "import numpy as np\n",
        "x_arr = np.arange(len(hist[0]))+1\n",
        "fig = plt.figure(figsize=(12,4))\n",
        "ax  = fig.add_subplot(1,2,1)\n",
        "ax.plot(x_arr,hist[0], '-o', label='train loss')\n",
        "ax.plot(x_arr,hist[1],'--<', label='validation loss')\n",
        "ax.legend(fontsize=15)\n",
        "ax.set_xlabel('Epoch', size=15)\n",
        "ax.set_ylabel('Loss', size=15)\n",
        "ax=fig.add_subplot(1,2,2)\n",
        "ax.plot(x_arr, hist[3], '-o', label='Train Acc')\n",
        "ax.plot(x_arr,hist[2], '--<', label='Validation acc.')\n",
        "ax.legend(fontsize=15)\n",
        "ax.set_xlabel('Epoch', size=15)\n",
        "ax.set_ylabel('Accuracy', size=15)\n",
        "plt.show()"
      ]
    },
    {
      "cell_type": "code",
      "execution_count": null,
      "metadata": {
        "id": "guKTFZ8VZu6i"
      },
      "outputs": [],
      "source": [
        "pred = model(mnist_test_dataset.data.unsqueeze(1)/255.)\n",
        "is_correct = (torch.argmax(pred,dim=1) == mnist_test_dataset.targets).float()\n",
        "print(f'Test Accuracy: {is_correct.mean():.4f}')\n"
      ]
    },
    {
      "cell_type": "code",
      "execution_count": null,
      "metadata": {
        "id": "Xayl0R72cGxr"
      },
      "outputs": [],
      "source": [
        "fig = plt.figure(figsize=(12,4))\n",
        "for i in range(25):\n",
        "  ax = fig.add_subplot(5,7,i+1)\n",
        "  ax.set_xticks([]); ax.set_yticks([])\n",
        "  img = mnist_test_dataset[i][0][0,:,:]\n",
        "  pred = model(img.unsqueeze(0).unsqueeze(1))\n",
        "  y_pred = torch.argmax(pred)\n",
        "  ax.imshow(img,cmap='gray_r')\n",
        "  ax.text(0.9,0.1,y_pred.item(),size=15,color='blue',horizontalalignment='center',verticalalignment='center', transform= ax.transAxes)\n",
        "plt.show()"
      ]
    }
  ],
  "metadata": {
    "colab": {
      "provenance": []
    },
    "kernelspec": {
      "display_name": "Python 3",
      "name": "python3"
    },
    "language_info": {
      "name": "python"
    }
  },
  "nbformat": 4,
  "nbformat_minor": 0
}