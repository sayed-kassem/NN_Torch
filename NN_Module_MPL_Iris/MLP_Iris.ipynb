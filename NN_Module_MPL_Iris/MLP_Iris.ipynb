{
  "nbformat": 4,
  "nbformat_minor": 0,
  "metadata": {
    "colab": {
      "provenance": [],
      "authorship_tag": "ABX9TyOBGDVmKo6a3n4WfNFO+6Yz",
      "include_colab_link": true
    },
    "kernelspec": {
      "name": "python3",
      "display_name": "Python 3"
    },
    "language_info": {
      "name": "python"
    }
  },
  "cells": [
    {
      "cell_type": "markdown",
      "metadata": {
        "id": "view-in-github",
        "colab_type": "text"
      },
      "source": [
        "<a href=\"https://colab.research.google.com/github/sayed-kassem/NN_Torch/blob/MLP_iris/MLP_Iris.ipynb\" target=\"_parent\"><img src=\"https://colab.research.google.com/assets/colab-badge.svg\" alt=\"Open In Colab\"/></a>"
      ]
    },
    {
      "cell_type": "code",
      "execution_count": null,
      "metadata": {
        "colab": {
          "base_uri": "https://localhost:8080/"
        },
        "id": "glw8LoDuOddk",
        "outputId": "5dd257e0-c896-4a40-c056-10328ef29063"
      },
      "outputs": [
        {
          "output_type": "stream",
          "name": "stdout",
          "text": [
            "(150, 4)\n"
          ]
        }
      ],
      "source": [
        "from sklearn.datasets import load_iris\n",
        "from sklearn.model_selection import train_test_split\n",
        "import numpy as np\n",
        "import torch\n",
        "import torch.nn as nn\n",
        "from torch.utils.data import TensorDataset, DataLoader\n",
        "iris = load_iris()\n",
        "print(iris['data'].shape)"
      ]
    },
    {
      "cell_type": "code",
      "source": [
        "X = iris['data']\n",
        "y = iris['target']\n",
        "X_train, X_test, y_train, y_test = train_test_split(X,y,test_size=1./3, random_state=1)"
      ],
      "metadata": {
        "id": "YPhEpgJsEC-4"
      },
      "execution_count": null,
      "outputs": []
    },
    {
      "cell_type": "code",
      "source": [
        "X_train_norm = (X_train - np.mean(X_train))/np.std(X_train)\n",
        "X_train_norm = torch.from_numpy(X_train_norm).float()"
      ],
      "metadata": {
        "id": "OT-J--AQERWG"
      },
      "execution_count": null,
      "outputs": []
    },
    {
      "cell_type": "code",
      "source": [
        "y_train = torch.from_numpy(y_train)\n",
        "train_ds = TensorDataset(X_train_norm, y_train)"
      ],
      "metadata": {
        "id": "C-Yxbdw2FCFb"
      },
      "execution_count": null,
      "outputs": []
    },
    {
      "cell_type": "code",
      "source": [
        "torch.manual_seed(1)\n",
        "batch_size = 2\n",
        "train_dl = DataLoader(train_ds,batch_size,shuffle=True)"
      ],
      "metadata": {
        "id": "1MteHdzPFjp2"
      },
      "execution_count": null,
      "outputs": []
    },
    {
      "cell_type": "code",
      "source": [
        "class Model(nn.Module):\n",
        "  def __init__(self,input_size,hidden_size,output_size):\n",
        "    super().__init__()\n",
        "    self.layer1 = nn.Linear(input_size, hidden_size)\n",
        "    self.layer2 = nn.Linear(hidden_size,output_size)\n",
        "  def forward(self, x):\n",
        "    x = self.layer1(x)\n",
        "    x = nn.Sigmoid()(x)\n",
        "    x = self.layer2(x)\n",
        "    x = nn.Softmax(dim=1)(x)\n",
        "    return x"
      ],
      "metadata": {
        "id": "pM6nsG7RFuGb"
      },
      "execution_count": null,
      "outputs": []
    },
    {
      "cell_type": "code",
      "source": [
        "input_size = X_train_norm.shape[1]\n",
        "hidden_size = 16\n",
        "output_size = 3\n",
        "model = Model(input_size, hidden_size, output_size)\n",
        "learning_rate = 0.001\n",
        "loss_fn = nn.CrossEntropyLoss()\n",
        "optimizer = torch.optim.Adam(model.parameters(), lr=learning_rate)\n",
        "num_epochs = 100\n",
        "loss_hist = [0]*num_epochs\n",
        "accuracy_hist = [0]* num_epochs"
      ],
      "metadata": {
        "id": "n-d7ZdWJIY_u"
      },
      "execution_count": null,
      "outputs": []
    },
    {
      "cell_type": "code",
      "source": [
        "for epoch in range(num_epochs):\n",
        "  for x_batch, y_batch in train_dl:\n",
        "    pred = model(x_batch)\n",
        "    loss = loss_fn(pred,y_batch)\n",
        "    loss.backward()\n",
        "    optimizer.step()\n",
        "    optimizer.zero_grad()\n",
        "    loss_hist[epoch] += loss.item()*y_batch.size(0)\n",
        "    is_correct = (torch.argmax(pred,dim=1)==y_batch).float()\n",
        "    accuracy_hist[epoch] += is_correct.mean()\n",
        "  loss_hist[epoch] /= len(train_dl.dataset)\n",
        "  accuracy_hist[epoch] /= len(train_dl.dataset)"
      ],
      "metadata": {
        "id": "iIYLoDZpJVET"
      },
      "execution_count": null,
      "outputs": []
    },
    {
      "cell_type": "code",
      "source": [
        "import matplotlib.pyplot as plt\n",
        "\n",
        "fig = plt.figure(figsize=(12,5))\n",
        "ax = fig.add_subplot(1,2,1)\n",
        "ax.plot(loss_hist, lw=3)\n",
        "ax.set_xlabel('Epoch', size=15)\n",
        "ax.set_title(\"Training loss\", size=15)\n",
        "ax.tick_params(axis='both',which='major',labelsize=15)\n",
        "ax = fig.add_subplot(1,2,2)\n",
        "ax.plot(accuracy_hist, lw=3)\n",
        "ax.set_xlabel(\"Epoch\",size=15)\n",
        "ax.set_title(\"Training Accuracy\", size=15)\n",
        "ax.tick_params(axis='both',which='major',labelsize=15)\n",
        "plt.show()"
      ],
      "metadata": {
        "colab": {
          "base_uri": "https://localhost:8080/",
          "height": 333
        },
        "id": "8usDl99BMKtQ",
        "outputId": "d30379dc-5f32-41f3-9fad-3712479955a8"
      },
      "execution_count": null,
      "outputs": [
        {
          "output_type": "display_data",
          "data": {
            "text/plain": [
              "<Figure size 1200x500 with 2 Axes>"
            ],
            "image/png": "[encoded data removed]"
          },
          "metadata": {}
        }
      ]
    },
    {
      "cell_type": "code",
      "source": [
        "X_test_norm = (X_test - np.mean(X_train))/np.std(X_train)\n",
        "X_test_norm = torch.from_numpy(X_test_norm).float()\n",
        "y_test = torch.from_numpy(y_test)\n",
        "pred_test = model(X_test_norm)\n",
        "correct = (torch.argmax(pred_test,dim=1)==y_test).float()\n",
        "accuracy = correct.mean()\n",
        "print(f'Test Acc.: {accuracy:.4f}')\n"
      ],
      "metadata": {
        "colab": {
          "base_uri": "https://localhost:8080/"
        },
        "id": "JPQS_be7QHij",
        "outputId": "562658a1-fa47-4d8e-810d-dd2ffdc1b354"
      },
      "execution_count": null,
      "outputs": [
        {
          "output_type": "stream",
          "name": "stdout",
          "text": [
            "Test Acc.: 0.9800\n"
          ]
        }
      ]
    },
    {
      "cell_type": "code",
      "source": [
        "path = 'iris_classifier.pt'\n",
        "torch.save(model,path)"
      ],
      "metadata": {
        "id": "fQncrVXpRSPr"
      },
      "execution_count": null,
      "outputs": []
    },
    {
      "cell_type": "code",
      "source": [
        "model_new = torch.load(path)"
      ],
      "metadata": {
        "id": "B_Wpehn2SPXr"
      },
      "execution_count": null,
      "outputs": []
    },
    {
      "cell_type": "code",
      "source": [
        "model_new.eval()"
      ],
      "metadata": {
        "colab": {
          "base_uri": "https://localhost:8080/"
        },
        "id": "Nmh1UgJrSU5v",
        "outputId": "b2777a97-b805-4c76-8bd7-ec7eb3ea474c"
      },
      "execution_count": null,
      "outputs": [
        {
          "output_type": "execute_result",
          "data": {
            "text/plain": [
              "Model(\n",
              "  (layer1): Linear(in_features=4, out_features=16, bias=True)\n",
              "  (layer2): Linear(in_features=16, out_features=3, bias=True)\n",
              ")"
            ]
          },
          "metadata": {},
          "execution_count": 69
        }
      ]
    },
    {
      "cell_type": "code",
      "source": [
        "pred_test = model_new(X_test_norm)\n",
        "correct = (torch.argmax(pred_test,dim=1)==y_test).float()\n",
        "accuracy = correct.mean()\n",
        "print(f'Test Acc.: {accuracy:.4f}')"
      ],
      "metadata": {
        "colab": {
          "base_uri": "https://localhost:8080/"
        },
        "id": "tHfJPIEESW6r",
        "outputId": "a3d7aa4e-49b8-42c0-c4ab-e568c80bd978"
      },
      "execution_count": null,
      "outputs": [
        {
          "output_type": "stream",
          "name": "stdout",
          "text": [
            "Test Acc.: 0.9800\n"
          ]
        }
      ]
    },
    {
      "cell_type": "code",
      "source": [
        "path = 'iris_classifier_state.pt'\n",
        "torch.save(model.state_dict(), path)"
      ],
      "metadata": {
        "id": "mtDQqLCkSsB8"
      },
      "execution_count": null,
      "outputs": []
    },
    {
      "cell_type": "code",
      "source": [
        "mode_new = Model(input_size,hidden_size, output_size)\n",
        "model_new.load_state_dict(torch.load(path))"
      ],
      "metadata": {
        "colab": {
          "base_uri": "https://localhost:8080/"
        },
        "id": "3OK3etLTS7Hk",
        "outputId": "c195da5d-53ab-4796-a657-9a0f7536d52a"
      },
      "execution_count": null,
      "outputs": [
        {
          "output_type": "execute_result",
          "data": {
            "text/plain": [
              "<All keys matched successfully>"
            ]
          },
          "metadata": {},
          "execution_count": 72
        }
      ]
    },
    {
      "cell_type": "code",
      "source": [],
      "metadata": {
        "id": "IhoMYBDXTFyo"
      },
      "execution_count": null,
      "outputs": []
    }
  ]
}